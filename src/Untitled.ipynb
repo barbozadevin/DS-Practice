{
 "cells": [
  {
   "cell_type": "markdown",
   "metadata": {},
   "source": [
    "<h1>Getting first occurence of non repeating letter</h1>"
   ]
  },
  {
   "cell_type": "markdown",
   "metadata": {},
   "source": [
    "<h5>Without indices</h5>"
   ]
  },
  {
   "cell_type": "code",
   "execution_count": 48,
   "metadata": {},
   "outputs": [
    {
     "name": "stdout",
     "output_type": "stream",
     "text": [
      "Found letter :  m\n"
     ]
    }
   ],
   "source": [
    "for i in range(len(\"myString\")):\n",
    "    letter = \"myString\"[i]\n",
    "    if(\"myString\".count(letter) == 1):\n",
    "        print(\"Found letter : \",letter)\n",
    "        break\n",
    "        \n"
   ]
  },
  {
   "cell_type": "markdown",
   "metadata": {},
   "source": [
    " <h5>With indices</h5>"
   ]
  },
  {
   "cell_type": "code",
   "execution_count": 29,
   "metadata": {},
   "outputs": [
    {
     "name": "stdout",
     "output_type": "stream",
     "text": [
      "Found letter :  n\n",
      "Index :  [3]\n"
     ]
    }
   ],
   "source": [
    "def findOcc(charac):\n",
    "    myList =[]\n",
    "    for index,letter in enumerate(myString):\n",
    "        if letter == charac:\n",
    "            myList.append(index)\n",
    "    return myList\n",
    "\n",
    "def firstOcc(myString):\n",
    "    for i in range(len(myString)):\n",
    "        letter = myString[i]\n",
    "        indices = findOcc(letter)\n",
    "        if len(indices) > 1:\n",
    "            continue\n",
    "        else:\n",
    "            print(\"Found letter : \",letter)\n",
    "            print(\"Index : \",indices)\n",
    "            break\n",
    "            \n",
    "firstOcc(\"wwynwyksa\")"
   ]
  },
  {
   "cell_type": "markdown",
   "metadata": {},
   "source": [
    "<h5>Best One I Guess</h5>"
   ]
  },
  {
   "cell_type": "code",
   "execution_count": 46,
   "metadata": {},
   "outputs": [
    {
     "name": "stdout",
     "output_type": "stream",
     "text": [
      "The Letter is : j\n"
     ]
    }
   ],
   "source": [
    "countList = {}\n",
    "allApha =[]\n",
    "alpha = \"a\"\n",
    "for i in range(0,26):\n",
    "    allApha.append(alpha)\n",
    "    countList[alpha] = -1\n",
    "    alpha = chr(ord(alpha) + 1)\n",
    "\n",
    "for i in \"aacbcbjsk\":\n",
    "    countList[i] = countList[i]+1\n",
    "\n",
    "for i in \"aacbcbjsk\":\n",
    "    if countList[i]==0:\n",
    "        print(f\"The Letter is : {i}\")\n",
    "        break"
   ]
  },
  {
   "cell_type": "markdown",
   "metadata": {},
   "source": [
    "<h5>Printing others as -1</h5>"
   ]
  },
  {
   "cell_type": "code",
   "execution_count": 51,
   "metadata": {},
   "outputs": [
    {
     "name": "stdout",
     "output_type": "stream",
     "text": [
      "Enter number of cases : 1\n",
      "Enter the String : yyioiyhdk\n",
      "y\n",
      "-1\n",
      "i\n",
      "o\n",
      "-1\n",
      "-1\n",
      "h\n",
      "d\n",
      "k\n"
     ]
    }
   ],
   "source": [
    "testcases = int(input(\"Enter number of cases : \"))\n",
    "\n",
    "for test in range(testcases):\n",
    "    testString = str(input(\"Enter the String : \"))\n",
    "\n",
    "#     testString = \"abbccdje\"\n",
    "    tester = []\n",
    "    for i in range(len(testString)):\n",
    "        if testString[i] in tester:\n",
    "            print(-1)\n",
    "        else:\n",
    "            print(testString[i])\n",
    "            tester.append(testString[i])\n",
    "        "
   ]
  },
  {
   "cell_type": "markdown",
   "metadata": {},
   "source": [
    "# Finding triplet with Zero Sum"
   ]
  },
  {
   "cell_type": "code",
   "execution_count": 2,
   "metadata": {},
   "outputs": [
    {
     "data": {
      "text/plain": [
       "True"
      ]
     },
     "execution_count": 2,
     "metadata": {},
     "output_type": "execute_result"
    }
   ],
   "source": [
    "def findTriple(arr):\n",
    "    arr.sort()\n",
    "    for i in range(len(arr)):\n",
    "\n",
    "        current = arr[i]\n",
    "        next = i+1\n",
    "        biggest = len(arr)-1\n",
    "\n",
    "        while(next<biggest):\n",
    "            if arr[i]+arr[next]+arr[biggest] == 0:\n",
    "                return True\n",
    "            elif arr[i]+arr[next]+arr[biggest] < 0:\n",
    "                next = next+1\n",
    "            else:\n",
    "                biggest = biggest-1\n",
    "    return False\n",
    "\n",
    "findTriple([0,-1,2,-3,1])"
   ]
  },
  {
   "cell_type": "markdown",
   "metadata": {},
   "source": [
    "# Convert Decimal to Binary in Line"
   ]
  },
  {
   "cell_type": "code",
   "execution_count": 48,
   "metadata": {},
   "outputs": [
    {
     "name": "stdout",
     "output_type": "stream",
     "text": [
      "1\n",
      "10\n",
      "11\n",
      "100\n",
      "101\n",
      "110\n",
      "111\n",
      "1000\n",
      "1001\n",
      "1010\n"
     ]
    }
   ],
   "source": [
    "NUMBER = 10,TEMP_NUM=1,binary=\"1\",flag=1\n",
    "print(binary)\n",
    "while(TEMP_NUM<NUMBER):\n",
    "    flag=1\n",
    "    #for all ones\n",
    "    for i in range(len(binary)):\n",
    "        if(binary[i] == \"0\"):\n",
    "            flag=0\n",
    "            break\n",
    "    if flag==1:\n",
    "        for j in range(len(binary)+1):\n",
    "            if j==0:\n",
    "                binary=\"1\"\n",
    "            else:\n",
    "                binary=binary+\"0\"\n",
    "                \n",
    "    #for normal things      \n",
    "    if flag==0:\n",
    "        i=len(binary)-1\n",
    "        if binary[i]==\"1\":\n",
    "            s = list(binary)\n",
    "            s[i]=\"0\"\n",
    "            binary = \"\".join(s)\n",
    "            i=i-1\n",
    "            while True:\n",
    "                s = list(binary)\n",
    "                if binary[i]==\"1\":\n",
    "                    s[i]=\"0\"\n",
    "                    binary = \"\".join(s)\n",
    "                else:\n",
    "                    s[i]=\"1\"\n",
    "                    binary = \"\".join(s)\n",
    "                if binary[i]!=\"0\":\n",
    "                    break\n",
    "        else:\n",
    "            s = list(binary)\n",
    "            s[i]=\"1\"\n",
    "            binary = \"\".join(s)\n",
    "                \n",
    "    print(binary)\n",
    "            \n",
    "    TEMP_NUM=TEMP_NUM+1\n"
   ]
  },
  {
   "cell_type": "code",
   "execution_count": 2,
   "metadata": {},
   "outputs": [
    {
     "data": {
      "text/plain": [
       "['1',\n",
       " '0',\n",
       " '1',\n",
       " '1',\n",
       " '0',\n",
       " '1',\n",
       " '0',\n",
       " '1',\n",
       " '0',\n",
       " '1',\n",
       " '0',\n",
       " '1',\n",
       " '0',\n",
       " '1',\n",
       " '0',\n",
       " '1',\n",
       " '0',\n",
       " '1',\n",
       " '0',\n",
       " '1',\n",
       " '0',\n",
       " '1',\n",
       " '0',\n",
       " '1',\n",
       " '0',\n",
       " '1']"
      ]
     },
     "execution_count": 2,
     "metadata": {},
     "output_type": "execute_result"
    }
   ],
   "source": []
  },
  {
   "cell_type": "code",
   "execution_count": 24,
   "metadata": {},
   "outputs": [],
   "source": [
    "s = [1,0,1,1,0,1,0,1,0,1,0,1,0,1,0,1,0,1,0,1,0,1,0,1,0,1]\n",
    "k = 2"
   ]
  },
  {
   "cell_type": "code",
   "execution_count": 25,
   "metadata": {},
   "outputs": [
    {
     "name": "stdout",
     "output_type": "stream",
     "text": [
      "0 0\n",
      "0 1\n",
      "0 2\n",
      "0 3\n",
      "0 4\n",
      "0 5\n",
      "2 6\n",
      "4 7\n",
      "4 8\n"
     ]
    }
   ],
   "source": [
    "left = 0\n",
    "curr = 0\n",
    "maxLeft = 0\n",
    "maxRight = 0\n",
    "for j in range(len(s)):\n",
    "    if s[j] == 0:\n",
    "        k -=1\n",
    "    while(k<0):\n",
    "        if(s[left] == 0):\n",
    "            k+=1\n",
    "        left+=1\n",
    "    if(j-left+1 > curr):\n",
    "        curr = j-left+1\n",
    "        maxLeft = left\n",
    "        maxRight = j\n",
    "    print(left,j)"
   ]
  },
  {
   "cell_type": "code",
   "execution_count": 26,
   "metadata": {},
   "outputs": [
    {
     "data": {
      "text/plain": [
       "6"
      ]
     },
     "execution_count": 26,
     "metadata": {},
     "output_type": "execute_result"
    }
   ],
   "source": [
    "maxRight-maxLeft+1"
   ]
  }
 ],
 "metadata": {
  "kernelspec": {
   "display_name": "Python 3",
   "language": "python",
   "name": "python3"
  },
  "language_info": {
   "codemirror_mode": {
    "name": "ipython",
    "version": 3
   },
   "file_extension": ".py",
   "mimetype": "text/x-python",
   "name": "python",
   "nbconvert_exporter": "python",
   "pygments_lexer": "ipython3",
   "version": "3.7.1"
  }
 },
 "nbformat": 4,
 "nbformat_minor": 2
}
